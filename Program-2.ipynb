{
 "cells": [
  {
   "cell_type": "code",
   "execution_count": null,
   "metadata": {},
   "outputs": [],
   "source": [
    "def read_text(file_name):\n",
    "    try:\n",
    "        \n",
    "        with open(file_name, \"r\") as file:\n",
    "            # Read and display the content of the file\n",
    "            print(\"Content of\", file_name, \":\")\n",
    "            for line in file:\n",
    "                print(line, end='')\n",
    "    except FileNotFoundError:\n",
    "        print(f\"Error: File '{file_name}' not found.\")\n",
    "    except Exception as e:\n",
    "        print(\"An error occurred:\", e)\n",
    "\n",
    "file_name = \"example.txt\" \n",
    "read_text(file_name)"
   ]
  }
 ],
 "metadata": {
  "language_info": {
   "name": "python"
  }
 },
 "nbformat": 4,
 "nbformat_minor": 2
}
