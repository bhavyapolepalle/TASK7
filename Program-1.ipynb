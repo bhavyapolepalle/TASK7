{
 "cells": [
  {
   "cell_type": "code",
   "execution_count": 2,
   "metadata": {},
   "outputs": [
    {
     "name": "stdout",
     "output_type": "stream",
     "text": [
      "File created successfully!\n"
     ]
    }
   ],
   "source": [
    "\n",
    "import datetime\n",
    "def create_text_file_with_timestamp():\n",
    "    # Get current timestamp\n",
    "    current_time = datetime.datetime.now()\n",
    "    timestamp = current_time.strftime(\"%Y-%m-%d_%H-%M-%S\")\n",
    "\n",
    "    # Create file with timestamp as filename\n",
    "    file_name = f\"timestamp_{timestamp}.txt\"\n",
    "    \n",
    " \n",
    "    with open(file_name, \"w\") as file:\n",
    "        file.write(f\"Current timestamp: {timestamp}\\n\")\n",
    "\n",
    "create_text_file_with_timestamp()\n",
    "print(\"File created successfully!\")"
   ]
  }
 ],
 "metadata": {
  "kernelspec": {
   "display_name": "Python 3",
   "language": "python",
   "name": "python3"
  },
  "language_info": {
   "codemirror_mode": {
    "name": "ipython",
    "version": 3
   },
   "file_extension": ".py",
   "mimetype": "text/x-python",
   "name": "python",
   "nbconvert_exporter": "python",
   "pygments_lexer": "ipython3",
   "version": "3.12.2"
  }
 },
 "nbformat": 4,
 "nbformat_minor": 2
}
